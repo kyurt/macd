{
  "nbformat": 4,
  "nbformat_minor": 0,
  "metadata": {
    "colab": {
      "name": "GLD-buy-sell.ipynb",
      "provenance": [],
      "collapsed_sections": [],
      "authorship_tag": "ABX9TyMTxs5noyWkFuZ++Rl2U9OB",
      "include_colab_link": true
    },
    "kernelspec": {
      "name": "python3",
      "display_name": "Python 3"
    }
  },
  "cells": [
    {
      "cell_type": "markdown",
      "metadata": {
        "id": "view-in-github",
        "colab_type": "text"
      },
      "source": [
        "<a href=\"https://colab.research.google.com/github/kyurt/macd/blob/master/GLD_buy_sell.ipynb\" target=\"_parent\"><img src=\"https://colab.research.google.com/assets/colab-badge.svg\" alt=\"Open In Colab\"/></a>"
      ]
    },
    {
      "cell_type": "code",
      "metadata": {
        "id": "e7P5QqRt4TYn"
      },
      "source": [
        "#Description: This program uses the Moving Average Convergence/Divergence (MACD)\n",
        "#             crossover to determine when to buy and sell a stock."
      ],
      "execution_count": null,
      "outputs": []
    },
    {
      "cell_type": "code",
      "metadata": {
        "id": "dw9-2mEl4vKj"
      },
      "source": [
        "#Import the libraries\n",
        "import pandas as pd\n",
        "import numpy as np\n",
        "import matplotlib.pyplot as plt\n",
        "plt.style.use('fivethirtyeight')"
      ],
      "execution_count": null,
      "outputs": []
    },
    {
      "cell_type": "code",
      "metadata": {
        "id": "jcY2nlbV5Flp",
        "outputId": "25d6a5a9-ef0d-4269-96b5-ea6bb7bcee36",
        "colab": {
          "resources": {
            "http://localhost:8080/nbextensions/google.colab/files.js": {
              "data": "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",
              "ok": true,
              "headers": [
                [
                  "content-type",
                  "application/javascript"
                ]
              ],
              "status": 200,
              "status_text": ""
            }
          },
          "base_uri": "https://localhost:8080/",
          "height": 73
        }
      },
      "source": [
        "#Load the data\n",
        "from google.colab import files\n",
        "uploaded = files.upload()"
      ],
      "execution_count": 78,
      "outputs": [
        {
          "output_type": "display_data",
          "data": {
            "text/html": [
              "\n",
              "     <input type=\"file\" id=\"files-4f6bcfc0-7c7d-486f-8c39-57ae659609b8\" name=\"files[]\" multiple disabled\n",
              "        style=\"border:none\" />\n",
              "     <output id=\"result-4f6bcfc0-7c7d-486f-8c39-57ae659609b8\">\n",
              "      Upload widget is only available when the cell has been executed in the\n",
              "      current browser session. Please rerun this cell to enable.\n",
              "      </output>\n",
              "      <script src=\"/nbextensions/google.colab/files.js\"></script> "
            ],
            "text/plain": [
              "<IPython.core.display.HTML object>"
            ]
          },
          "metadata": {
            "tags": []
          }
        },
        {
          "output_type": "stream",
          "text": [
            "Saving GLD.csv to GLD (1).csv\n"
          ],
          "name": "stdout"
        }
      ]
    },
    {
      "cell_type": "code",
      "metadata": {
        "id": "I0uvBH3Z5SvG",
        "outputId": "3d28d82a-b299-477e-95e4-ae09b52a308a",
        "colab": {
          "base_uri": "https://localhost:8080/",
          "height": 415
        }
      },
      "source": [
        "#Store the date into a df\n",
        "df = pd.read_csv('GLD.csv')\n",
        "#Set the date to be the index\n",
        "df = df.set_index(pd.DatetimeIndex(df['Date'].values))\n",
        "#show the data\n",
        "df"
      ],
      "execution_count": 79,
      "outputs": [
        {
          "output_type": "execute_result",
          "data": {
            "text/html": [
              "<div>\n",
              "<style scoped>\n",
              "    .dataframe tbody tr th:only-of-type {\n",
              "        vertical-align: middle;\n",
              "    }\n",
              "\n",
              "    .dataframe tbody tr th {\n",
              "        vertical-align: top;\n",
              "    }\n",
              "\n",
              "    .dataframe thead th {\n",
              "        text-align: right;\n",
              "    }\n",
              "</style>\n",
              "<table border=\"1\" class=\"dataframe\">\n",
              "  <thead>\n",
              "    <tr style=\"text-align: right;\">\n",
              "      <th></th>\n",
              "      <th>Date</th>\n",
              "      <th>Open</th>\n",
              "      <th>High</th>\n",
              "      <th>Low</th>\n",
              "      <th>Close</th>\n",
              "      <th>Adj Close</th>\n",
              "      <th>Volume</th>\n",
              "    </tr>\n",
              "  </thead>\n",
              "  <tbody>\n",
              "    <tr>\n",
              "      <th>2015-09-28</th>\n",
              "      <td>2015-09-28</td>\n",
              "      <td>108.370003</td>\n",
              "      <td>108.910004</td>\n",
              "      <td>108.269997</td>\n",
              "      <td>108.419998</td>\n",
              "      <td>108.419998</td>\n",
              "      <td>3809600</td>\n",
              "    </tr>\n",
              "    <tr>\n",
              "      <th>2015-09-29</th>\n",
              "      <td>2015-09-29</td>\n",
              "      <td>108.239998</td>\n",
              "      <td>108.690002</td>\n",
              "      <td>107.879997</td>\n",
              "      <td>107.980003</td>\n",
              "      <td>107.980003</td>\n",
              "      <td>4043600</td>\n",
              "    </tr>\n",
              "    <tr>\n",
              "      <th>2015-09-30</th>\n",
              "      <td>2015-09-30</td>\n",
              "      <td>106.779999</td>\n",
              "      <td>107.080002</td>\n",
              "      <td>106.470001</td>\n",
              "      <td>106.860001</td>\n",
              "      <td>106.860001</td>\n",
              "      <td>7405600</td>\n",
              "    </tr>\n",
              "    <tr>\n",
              "      <th>2015-10-01</th>\n",
              "      <td>2015-10-01</td>\n",
              "      <td>106.980003</td>\n",
              "      <td>107.209999</td>\n",
              "      <td>106.629997</td>\n",
              "      <td>106.730003</td>\n",
              "      <td>106.730003</td>\n",
              "      <td>4278600</td>\n",
              "    </tr>\n",
              "    <tr>\n",
              "      <th>2015-10-02</th>\n",
              "      <td>2015-10-02</td>\n",
              "      <td>108.540001</td>\n",
              "      <td>109.320000</td>\n",
              "      <td>108.540001</td>\n",
              "      <td>108.989998</td>\n",
              "      <td>108.989998</td>\n",
              "      <td>7730600</td>\n",
              "    </tr>\n",
              "    <tr>\n",
              "      <th>...</th>\n",
              "      <td>...</td>\n",
              "      <td>...</td>\n",
              "      <td>...</td>\n",
              "      <td>...</td>\n",
              "      <td>...</td>\n",
              "      <td>...</td>\n",
              "      <td>...</td>\n",
              "    </tr>\n",
              "    <tr>\n",
              "      <th>2020-09-21</th>\n",
              "      <td>2020-09-21</td>\n",
              "      <td>179.839996</td>\n",
              "      <td>180.289993</td>\n",
              "      <td>176.750000</td>\n",
              "      <td>179.520004</td>\n",
              "      <td>179.520004</td>\n",
              "      <td>17436100</td>\n",
              "    </tr>\n",
              "    <tr>\n",
              "      <th>2020-09-22</th>\n",
              "      <td>2020-09-22</td>\n",
              "      <td>179.630005</td>\n",
              "      <td>180.020004</td>\n",
              "      <td>178.110001</td>\n",
              "      <td>178.649994</td>\n",
              "      <td>178.649994</td>\n",
              "      <td>7977900</td>\n",
              "    </tr>\n",
              "    <tr>\n",
              "      <th>2020-09-23</th>\n",
              "      <td>2020-09-23</td>\n",
              "      <td>176.979996</td>\n",
              "      <td>177.259995</td>\n",
              "      <td>174.100006</td>\n",
              "      <td>174.789993</td>\n",
              "      <td>174.789993</td>\n",
              "      <td>18134000</td>\n",
              "    </tr>\n",
              "    <tr>\n",
              "      <th>2020-09-24</th>\n",
              "      <td>2020-09-24</td>\n",
              "      <td>174.360001</td>\n",
              "      <td>176.240005</td>\n",
              "      <td>173.770004</td>\n",
              "      <td>175.440002</td>\n",
              "      <td>175.440002</td>\n",
              "      <td>11759200</td>\n",
              "    </tr>\n",
              "    <tr>\n",
              "      <th>2020-09-25</th>\n",
              "      <td>2020-09-25</td>\n",
              "      <td>174.410004</td>\n",
              "      <td>175.300003</td>\n",
              "      <td>173.889999</td>\n",
              "      <td>174.940002</td>\n",
              "      <td>174.940002</td>\n",
              "      <td>6774000</td>\n",
              "    </tr>\n",
              "  </tbody>\n",
              "</table>\n",
              "<p>1259 rows × 7 columns</p>\n",
              "</div>"
            ],
            "text/plain": [
              "                  Date        Open  ...   Adj Close    Volume\n",
              "2015-09-28  2015-09-28  108.370003  ...  108.419998   3809600\n",
              "2015-09-29  2015-09-29  108.239998  ...  107.980003   4043600\n",
              "2015-09-30  2015-09-30  106.779999  ...  106.860001   7405600\n",
              "2015-10-01  2015-10-01  106.980003  ...  106.730003   4278600\n",
              "2015-10-02  2015-10-02  108.540001  ...  108.989998   7730600\n",
              "...                ...         ...  ...         ...       ...\n",
              "2020-09-21  2020-09-21  179.839996  ...  179.520004  17436100\n",
              "2020-09-22  2020-09-22  179.630005  ...  178.649994   7977900\n",
              "2020-09-23  2020-09-23  176.979996  ...  174.789993  18134000\n",
              "2020-09-24  2020-09-24  174.360001  ...  175.440002  11759200\n",
              "2020-09-25  2020-09-25  174.410004  ...  174.940002   6774000\n",
              "\n",
              "[1259 rows x 7 columns]"
            ]
          },
          "metadata": {
            "tags": []
          },
          "execution_count": 79
        }
      ]
    },
    {
      "cell_type": "code",
      "metadata": {
        "id": "iRPTVieR-tOV",
        "outputId": "a856b625-327f-4b09-a88c-96798dbe40a8",
        "colab": {
          "base_uri": "https://localhost:8080/",
          "height": 334
        }
      },
      "source": [
        "#Visally show the price\n",
        "plt.figure(figsize=(12.2, 4.5))\n",
        "plt.plot(df['Close'], label='Close')\n",
        "plt.xticks(rotation=30)\n",
        "plt.title('Close Price History')\n",
        "plt.xlabel('Date')\n",
        "plt.ylabel('Pice USD ($)')\n",
        "plt.show()\n"
      ],
      "execution_count": 80,
      "outputs": [
        {
          "output_type": "display_data",
          "data": {
            "image/png": "[encoded data removed]",
            "text/plain": [
              "<Figure size 878.4x324 with 1 Axes>"
            ]
          },
          "metadata": {
            "tags": [],
            "needs_background": "light"
          }
        }
      ]
    },
    {
      "cell_type": "code",
      "metadata": {
        "id": "nq4iXE8B_28j"
      },
      "source": [
        "#Calculate the MAC and signal line indicators\n",
        "#Calculate the short term exponential moving average (EMA)\n",
        "shortEMA = df.Close.ewm(span=30, adjust=False).mean()\n",
        "#Calculate the long term exponential moving average (EMA)\n",
        "LongEMA  = df.Close.ewm(span=66, adjust=False).mean()\n",
        "#Calculate the MACD line\n",
        "MACD = shortEMA - LongEMA\n",
        "#Calculate the signal line\n",
        "signal = MACD.ewm(span=20, adjust=False).mean()\n"
      ],
      "execution_count": 89,
      "outputs": []
    },
    {
      "cell_type": "code",
      "metadata": {
        "id": "QW9B-AAgA5V_",
        "outputId": "8ca92943-2fc9-4eba-95c2-353c32fa3a68",
        "colab": {
          "base_uri": "https://localhost:8080/",
          "height": 329
        }
      },
      "source": [
        "#plot the chart\n",
        "plt.figure(figsize=(14.2, 5.5))\n",
        "plt.plot(df.index, MACD, label = 'Gold MACD', color = 'red')\n",
        "plt.plot(df.index, signal, label ='Signal Line', color = 'blue')\n",
        "plt.xticks(rotation=25)\n",
        "plt.legend(loc='upper left')\n",
        "plt.show()"
      ],
      "execution_count": 90,
      "outputs": [
        {
          "output_type": "display_data",
          "data": {
            "image/png": "[encoded data removed]",
            "text/plain": [
              "<Figure size 1022.4x396 with 1 Axes>"
            ]
          },
          "metadata": {
            "tags": [],
            "needs_background": "light"
          }
        }
      ]
    },
    {
      "cell_type": "markdown",
      "metadata": {
        "id": "PRYfJOe0VBDN"
      },
      "source": [
        "# New Section"
      ]
    },
    {
      "cell_type": "markdown",
      "metadata": {
        "id": "8iKwS27mVBo7"
      },
      "source": [
        "# New Section"
      ]
    },
    {
      "cell_type": "code",
      "metadata": {
        "id": "TdS4l-OgE-Ou",
        "outputId": "d8b56d83-52d1-4e21-ecd5-45bc9b74f2b3",
        "colab": {
          "base_uri": "https://localhost:8080/",
          "height": 626
        }
      },
      "source": [
        "#create new columns for the data\n",
        "df['MACD'] = MACD\n",
        "df['Signal Line'] = signal\n",
        "#show\n",
        "df"
      ],
      "execution_count": 91,
      "outputs": [
        {
          "output_type": "execute_result",
          "data": {
            "text/html": [
              "<div>\n",
              "<style scoped>\n",
              "    .dataframe tbody tr th:only-of-type {\n",
              "        vertical-align: middle;\n",
              "    }\n",
              "\n",
              "    .dataframe tbody tr th {\n",
              "        vertical-align: top;\n",
              "    }\n",
              "\n",
              "    .dataframe thead th {\n",
              "        text-align: right;\n",
              "    }\n",
              "</style>\n",
              "<table border=\"1\" class=\"dataframe\">\n",
              "  <thead>\n",
              "    <tr style=\"text-align: right;\">\n",
              "      <th></th>\n",
              "      <th>Date</th>\n",
              "      <th>Open</th>\n",
              "      <th>High</th>\n",
              "      <th>Low</th>\n",
              "      <th>Close</th>\n",
              "      <th>Adj Close</th>\n",
              "      <th>Volume</th>\n",
              "      <th>MACD</th>\n",
              "      <th>Signal Line</th>\n",
              "      <th>Buy_Signal_Price</th>\n",
              "      <th>Sell_Signal_Price</th>\n",
              "    </tr>\n",
              "  </thead>\n",
              "  <tbody>\n",
              "    <tr>\n",
              "      <th>2015-09-28</th>\n",
              "      <td>2015-09-28</td>\n",
              "      <td>108.370003</td>\n",
              "      <td>108.910004</td>\n",
              "      <td>108.269997</td>\n",
              "      <td>108.419998</td>\n",
              "      <td>108.419998</td>\n",
              "      <td>3809600</td>\n",
              "      <td>0.000000</td>\n",
              "      <td>0.000000</td>\n",
              "      <td>NaN</td>\n",
              "      <td>NaN</td>\n",
              "    </tr>\n",
              "    <tr>\n",
              "      <th>2015-09-29</th>\n",
              "      <td>2015-09-29</td>\n",
              "      <td>108.239998</td>\n",
              "      <td>108.690002</td>\n",
              "      <td>107.879997</td>\n",
              "      <td>107.980003</td>\n",
              "      <td>107.980003</td>\n",
              "      <td>4043600</td>\n",
              "      <td>-0.015253</td>\n",
              "      <td>-0.001453</td>\n",
              "      <td>NaN</td>\n",
              "      <td>107.980003</td>\n",
              "    </tr>\n",
              "    <tr>\n",
              "      <th>2015-09-30</th>\n",
              "      <td>2015-09-30</td>\n",
              "      <td>106.779999</td>\n",
              "      <td>107.080002</td>\n",
              "      <td>106.470001</td>\n",
              "      <td>106.860001</td>\n",
              "      <td>106.860001</td>\n",
              "      <td>7405600</td>\n",
              "      <td>-0.067891</td>\n",
              "      <td>-0.007780</td>\n",
              "      <td>NaN</td>\n",
              "      <td>NaN</td>\n",
              "    </tr>\n",
              "    <tr>\n",
              "      <th>2015-10-01</th>\n",
              "      <td>2015-10-01</td>\n",
              "      <td>106.980003</td>\n",
              "      <td>107.209999</td>\n",
              "      <td>106.629997</td>\n",
              "      <td>106.730003</td>\n",
              "      <td>106.730003</td>\n",
              "      <td>4278600</td>\n",
              "      <td>-0.120039</td>\n",
              "      <td>-0.018471</td>\n",
              "      <td>NaN</td>\n",
              "      <td>NaN</td>\n",
              "    </tr>\n",
              "    <tr>\n",
              "      <th>2015-10-02</th>\n",
              "      <td>2015-10-02</td>\n",
              "      <td>108.540001</td>\n",
              "      <td>109.320000</td>\n",
              "      <td>108.540001</td>\n",
              "      <td>108.989998</td>\n",
              "      <td>108.989998</td>\n",
              "      <td>7730600</td>\n",
              "      <td>-0.088792</td>\n",
              "      <td>-0.025169</td>\n",
              "      <td>NaN</td>\n",
              "      <td>NaN</td>\n",
              "    </tr>\n",
              "    <tr>\n",
              "      <th>...</th>\n",
              "      <td>...</td>\n",
              "      <td>...</td>\n",
              "      <td>...</td>\n",
              "      <td>...</td>\n",
              "      <td>...</td>\n",
              "      <td>...</td>\n",
              "      <td>...</td>\n",
              "      <td>...</td>\n",
              "      <td>...</td>\n",
              "      <td>...</td>\n",
              "      <td>...</td>\n",
              "    </tr>\n",
              "    <tr>\n",
              "      <th>2020-09-21</th>\n",
              "      <td>2020-09-21</td>\n",
              "      <td>179.839996</td>\n",
              "      <td>180.289993</td>\n",
              "      <td>176.750000</td>\n",
              "      <td>179.520004</td>\n",
              "      <td>179.520004</td>\n",
              "      <td>17436100</td>\n",
              "      <td>4.189785</td>\n",
              "      <td>5.207223</td>\n",
              "      <td>NaN</td>\n",
              "      <td>NaN</td>\n",
              "    </tr>\n",
              "    <tr>\n",
              "      <th>2020-09-22</th>\n",
              "      <td>2020-09-22</td>\n",
              "      <td>179.630005</td>\n",
              "      <td>180.020004</td>\n",
              "      <td>178.110001</td>\n",
              "      <td>178.649994</td>\n",
              "      <td>178.649994</td>\n",
              "      <td>7977900</td>\n",
              "      <td>3.943223</td>\n",
              "      <td>5.086842</td>\n",
              "      <td>NaN</td>\n",
              "      <td>NaN</td>\n",
              "    </tr>\n",
              "    <tr>\n",
              "      <th>2020-09-23</th>\n",
              "      <td>2020-09-23</td>\n",
              "      <td>176.979996</td>\n",
              "      <td>177.259995</td>\n",
              "      <td>174.100006</td>\n",
              "      <td>174.789993</td>\n",
              "      <td>174.789993</td>\n",
              "      <td>18134000</td>\n",
              "      <td>3.578050</td>\n",
              "      <td>4.943147</td>\n",
              "      <td>NaN</td>\n",
              "      <td>NaN</td>\n",
              "    </tr>\n",
              "    <tr>\n",
              "      <th>2020-09-24</th>\n",
              "      <td>2020-09-24</td>\n",
              "      <td>174.360001</td>\n",
              "      <td>176.240005</td>\n",
              "      <td>173.770004</td>\n",
              "      <td>175.440002</td>\n",
              "      <td>175.440002</td>\n",
              "      <td>11759200</td>\n",
              "      <td>3.262277</td>\n",
              "      <td>4.783064</td>\n",
              "      <td>NaN</td>\n",
              "      <td>NaN</td>\n",
              "    </tr>\n",
              "    <tr>\n",
              "      <th>2020-09-25</th>\n",
              "      <td>2020-09-25</td>\n",
              "      <td>174.410004</td>\n",
              "      <td>175.300003</td>\n",
              "      <td>173.889999</td>\n",
              "      <td>174.940002</td>\n",
              "      <td>174.940002</td>\n",
              "      <td>6774000</td>\n",
              "      <td>2.952078</td>\n",
              "      <td>4.608685</td>\n",
              "      <td>NaN</td>\n",
              "      <td>NaN</td>\n",
              "    </tr>\n",
              "  </tbody>\n",
              "</table>\n",
              "<p>1259 rows × 11 columns</p>\n",
              "</div>"
            ],
            "text/plain": [
              "                  Date        Open  ...  Buy_Signal_Price  Sell_Signal_Price\n",
              "2015-09-28  2015-09-28  108.370003  ...               NaN                NaN\n",
              "2015-09-29  2015-09-29  108.239998  ...               NaN         107.980003\n",
              "2015-09-30  2015-09-30  106.779999  ...               NaN                NaN\n",
              "2015-10-01  2015-10-01  106.980003  ...               NaN                NaN\n",
              "2015-10-02  2015-10-02  108.540001  ...               NaN                NaN\n",
              "...                ...         ...  ...               ...                ...\n",
              "2020-09-21  2020-09-21  179.839996  ...               NaN                NaN\n",
              "2020-09-22  2020-09-22  179.630005  ...               NaN                NaN\n",
              "2020-09-23  2020-09-23  176.979996  ...               NaN                NaN\n",
              "2020-09-24  2020-09-24  174.360001  ...               NaN                NaN\n",
              "2020-09-25  2020-09-25  174.410004  ...               NaN                NaN\n",
              "\n",
              "[1259 rows x 11 columns]"
            ]
          },
          "metadata": {
            "tags": []
          },
          "execution_count": 91
        }
      ]
    },
    {
      "cell_type": "code",
      "metadata": {
        "id": "nw82OrPd9rn9"
      },
      "source": [
        "#create a function to signal when to buy and sell an asset\n",
        "def buy_sell(signal):\n",
        "  Buy = []\n",
        "  Sell = []\n",
        "  flag = -1\n",
        "\n",
        "  for i in range(0, len(signal)):\n",
        "    if signal['MACD'][i] > signal['Signal Line'][i]:\n",
        "      Sell.append(np.nan)\n",
        "      if flag != 1:\n",
        "        Buy.append(signal['Close'][i])\n",
        "        flag =1\n",
        "      else:\n",
        "        Buy.append(np.nan)\n",
        "    elif signal['MACD'][i] < signal['Signal Line'][i]:\n",
        "      Buy.append(np.nan)\n",
        "      if flag != 0:\n",
        "        Sell.append(signal['Close'][i])\n",
        "        flag = 0\n",
        "      else:\n",
        "        Sell.append(np.nan)\n",
        "    else:\n",
        "      Buy.append(np.nan)\n",
        "      Sell.append(np.nan)\n",
        "\n",
        "  return (Buy, Sell)"
      ],
      "execution_count": 92,
      "outputs": []
    },
    {
      "cell_type": "code",
      "metadata": {
        "id": "mNxQA1UpGyWV"
      },
      "source": [
        "#Create buy and sell column\n",
        "a = buy_sell(df)\n",
        "df['Buy_Signal_Price'] = a[0]\n",
        "df['Sell_Signal_Price'] = a[1]"
      ],
      "execution_count": 93,
      "outputs": []
    },
    {
      "cell_type": "code",
      "metadata": {
        "id": "4MTO7Y8_HujI",
        "outputId": "4f579b27-2b42-493b-c32a-1126540208a1",
        "colab": {
          "base_uri": "https://localhost:8080/",
          "height": 626
        }
      },
      "source": [
        "#show the data\n",
        "df"
      ],
      "execution_count": 94,
      "outputs": [
        {
          "output_type": "execute_result",
          "data": {
            "text/html": [
              "<div>\n",
              "<style scoped>\n",
              "    .dataframe tbody tr th:only-of-type {\n",
              "        vertical-align: middle;\n",
              "    }\n",
              "\n",
              "    .dataframe tbody tr th {\n",
              "        vertical-align: top;\n",
              "    }\n",
              "\n",
              "    .dataframe thead th {\n",
              "        text-align: right;\n",
              "    }\n",
              "</style>\n",
              "<table border=\"1\" class=\"dataframe\">\n",
              "  <thead>\n",
              "    <tr style=\"text-align: right;\">\n",
              "      <th></th>\n",
              "      <th>Date</th>\n",
              "      <th>Open</th>\n",
              "      <th>High</th>\n",
              "      <th>Low</th>\n",
              "      <th>Close</th>\n",
              "      <th>Adj Close</th>\n",
              "      <th>Volume</th>\n",
              "      <th>MACD</th>\n",
              "      <th>Signal Line</th>\n",
              "      <th>Buy_Signal_Price</th>\n",
              "      <th>Sell_Signal_Price</th>\n",
              "    </tr>\n",
              "  </thead>\n",
              "  <tbody>\n",
              "    <tr>\n",
              "      <th>2015-09-28</th>\n",
              "      <td>2015-09-28</td>\n",
              "      <td>108.370003</td>\n",
              "      <td>108.910004</td>\n",
              "      <td>108.269997</td>\n",
              "      <td>108.419998</td>\n",
              "      <td>108.419998</td>\n",
              "      <td>3809600</td>\n",
              "      <td>0.000000</td>\n",
              "      <td>0.000000</td>\n",
              "      <td>NaN</td>\n",
              "      <td>NaN</td>\n",
              "    </tr>\n",
              "    <tr>\n",
              "      <th>2015-09-29</th>\n",
              "      <td>2015-09-29</td>\n",
              "      <td>108.239998</td>\n",
              "      <td>108.690002</td>\n",
              "      <td>107.879997</td>\n",
              "      <td>107.980003</td>\n",
              "      <td>107.980003</td>\n",
              "      <td>4043600</td>\n",
              "      <td>-0.015253</td>\n",
              "      <td>-0.001453</td>\n",
              "      <td>NaN</td>\n",
              "      <td>107.980003</td>\n",
              "    </tr>\n",
              "    <tr>\n",
              "      <th>2015-09-30</th>\n",
              "      <td>2015-09-30</td>\n",
              "      <td>106.779999</td>\n",
              "      <td>107.080002</td>\n",
              "      <td>106.470001</td>\n",
              "      <td>106.860001</td>\n",
              "      <td>106.860001</td>\n",
              "      <td>7405600</td>\n",
              "      <td>-0.067891</td>\n",
              "      <td>-0.007780</td>\n",
              "      <td>NaN</td>\n",
              "      <td>NaN</td>\n",
              "    </tr>\n",
              "    <tr>\n",
              "      <th>2015-10-01</th>\n",
              "      <td>2015-10-01</td>\n",
              "      <td>106.980003</td>\n",
              "      <td>107.209999</td>\n",
              "      <td>106.629997</td>\n",
              "      <td>106.730003</td>\n",
              "      <td>106.730003</td>\n",
              "      <td>4278600</td>\n",
              "      <td>-0.120039</td>\n",
              "      <td>-0.018471</td>\n",
              "      <td>NaN</td>\n",
              "      <td>NaN</td>\n",
              "    </tr>\n",
              "    <tr>\n",
              "      <th>2015-10-02</th>\n",
              "      <td>2015-10-02</td>\n",
              "      <td>108.540001</td>\n",
              "      <td>109.320000</td>\n",
              "      <td>108.540001</td>\n",
              "      <td>108.989998</td>\n",
              "      <td>108.989998</td>\n",
              "      <td>7730600</td>\n",
              "      <td>-0.088792</td>\n",
              "      <td>-0.025169</td>\n",
              "      <td>NaN</td>\n",
              "      <td>NaN</td>\n",
              "    </tr>\n",
              "    <tr>\n",
              "      <th>...</th>\n",
              "      <td>...</td>\n",
              "      <td>...</td>\n",
              "      <td>...</td>\n",
              "      <td>...</td>\n",
              "      <td>...</td>\n",
              "      <td>...</td>\n",
              "      <td>...</td>\n",
              "      <td>...</td>\n",
              "      <td>...</td>\n",
              "      <td>...</td>\n",
              "      <td>...</td>\n",
              "    </tr>\n",
              "    <tr>\n",
              "      <th>2020-09-21</th>\n",
              "      <td>2020-09-21</td>\n",
              "      <td>179.839996</td>\n",
              "      <td>180.289993</td>\n",
              "      <td>176.750000</td>\n",
              "      <td>179.520004</td>\n",
              "      <td>179.520004</td>\n",
              "      <td>17436100</td>\n",
              "      <td>4.189785</td>\n",
              "      <td>5.207223</td>\n",
              "      <td>NaN</td>\n",
              "      <td>NaN</td>\n",
              "    </tr>\n",
              "    <tr>\n",
              "      <th>2020-09-22</th>\n",
              "      <td>2020-09-22</td>\n",
              "      <td>179.630005</td>\n",
              "      <td>180.020004</td>\n",
              "      <td>178.110001</td>\n",
              "      <td>178.649994</td>\n",
              "      <td>178.649994</td>\n",
              "      <td>7977900</td>\n",
              "      <td>3.943223</td>\n",
              "      <td>5.086842</td>\n",
              "      <td>NaN</td>\n",
              "      <td>NaN</td>\n",
              "    </tr>\n",
              "    <tr>\n",
              "      <th>2020-09-23</th>\n",
              "      <td>2020-09-23</td>\n",
              "      <td>176.979996</td>\n",
              "      <td>177.259995</td>\n",
              "      <td>174.100006</td>\n",
              "      <td>174.789993</td>\n",
              "      <td>174.789993</td>\n",
              "      <td>18134000</td>\n",
              "      <td>3.578050</td>\n",
              "      <td>4.943147</td>\n",
              "      <td>NaN</td>\n",
              "      <td>NaN</td>\n",
              "    </tr>\n",
              "    <tr>\n",
              "      <th>2020-09-24</th>\n",
              "      <td>2020-09-24</td>\n",
              "      <td>174.360001</td>\n",
              "      <td>176.240005</td>\n",
              "      <td>173.770004</td>\n",
              "      <td>175.440002</td>\n",
              "      <td>175.440002</td>\n",
              "      <td>11759200</td>\n",
              "      <td>3.262277</td>\n",
              "      <td>4.783064</td>\n",
              "      <td>NaN</td>\n",
              "      <td>NaN</td>\n",
              "    </tr>\n",
              "    <tr>\n",
              "      <th>2020-09-25</th>\n",
              "      <td>2020-09-25</td>\n",
              "      <td>174.410004</td>\n",
              "      <td>175.300003</td>\n",
              "      <td>173.889999</td>\n",
              "      <td>174.940002</td>\n",
              "      <td>174.940002</td>\n",
              "      <td>6774000</td>\n",
              "      <td>2.952078</td>\n",
              "      <td>4.608685</td>\n",
              "      <td>NaN</td>\n",
              "      <td>NaN</td>\n",
              "    </tr>\n",
              "  </tbody>\n",
              "</table>\n",
              "<p>1259 rows × 11 columns</p>\n",
              "</div>"
            ],
            "text/plain": [
              "                  Date        Open  ...  Buy_Signal_Price  Sell_Signal_Price\n",
              "2015-09-28  2015-09-28  108.370003  ...               NaN                NaN\n",
              "2015-09-29  2015-09-29  108.239998  ...               NaN         107.980003\n",
              "2015-09-30  2015-09-30  106.779999  ...               NaN                NaN\n",
              "2015-10-01  2015-10-01  106.980003  ...               NaN                NaN\n",
              "2015-10-02  2015-10-02  108.540001  ...               NaN                NaN\n",
              "...                ...         ...  ...               ...                ...\n",
              "2020-09-21  2020-09-21  179.839996  ...               NaN                NaN\n",
              "2020-09-22  2020-09-22  179.630005  ...               NaN                NaN\n",
              "2020-09-23  2020-09-23  176.979996  ...               NaN                NaN\n",
              "2020-09-24  2020-09-24  174.360001  ...               NaN                NaN\n",
              "2020-09-25  2020-09-25  174.410004  ...               NaN                NaN\n",
              "\n",
              "[1259 rows x 11 columns]"
            ]
          },
          "metadata": {
            "tags": []
          },
          "execution_count": 94
        }
      ]
    },
    {
      "cell_type": "code",
      "metadata": {
        "id": "3a0XeLjXHzDB",
        "outputId": "a986fcb4-535b-4620-8aad-b4c70f767e62",
        "colab": {
          "base_uri": "https://localhost:8080/",
          "height": 352
        }
      },
      "source": [
        "#Visally show the buy sell signals\n",
        "plt.figure(figsize=(15.0, 6.0))\n",
        "plt.scatter(df.index, df['Buy_Signal_Price'], color='green', label='Buy', marker='^', alpha =1)\n",
        "plt.scatter(df.index, df['Sell_Signal_Price'], color='red', label='Sell', marker='v', alpha =1)\n",
        "plt.plot(df['Close'], label='Close Price', alpha = 0.35)\n",
        "plt.title('Close Price Buy & Cell Signals')\n",
        "plt.xlabel('Date')\n",
        "plt.ylabel('Close Price USD ($)')\n",
        "plt.legend(loc = 'upper left')\n",
        "plt.show()"
      ],
      "execution_count": 95,
      "outputs": [
        {
          "output_type": "display_data",
          "data": {
            "image/png": "[encoded data removed]",
            "text/plain": [
              "<Figure size 1080x432 with 1 Axes>"
            ]
          },
          "metadata": {
            "tags": [],
            "needs_background": "light"
          }
        }
      ]
    }
  ]
}